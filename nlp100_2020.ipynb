{
  "nbformat": 4,
  "nbformat_minor": 0,
  "metadata": {
    "colab": {
      "name": "nlp100-2020.ipynb",
      "provenance": [],
      "authorship_tag": "ABX9TyOvcVuSpjhh6IZ2QhpzGaXC",
      "include_colab_link": true
    },
    "kernelspec": {
      "name": "python3",
      "display_name": "Python 3"
    },
    "language_info": {
      "name": "python"
    }
  },
  "cells": [
    {
      "cell_type": "markdown",
      "metadata": {
        "id": "view-in-github",
        "colab_type": "text"
      },
      "source": [
        "<a href=\"https://colab.research.google.com/github/noriki63/nlp100/blob/main/nlp100_2020.ipynb\" target=\"_parent\"><img src=\"https://colab.research.google.com/assets/colab-badge.svg\" alt=\"Open In Colab\"/></a>"
      ]
    },
    {
      "cell_type": "markdown",
      "source": [
        "# 第1章  \n",
        "## 00.文字列の逆順  \n",
        "文字列”stressed”の文字を逆に（末尾から先頭に向かって）並べた文字列を得よ．"
      ],
      "metadata": {
        "id": "YnHjAmZPHp_W"
      }
    },
    {
      "cell_type": "code",
      "execution_count": 61,
      "metadata": {
        "colab": {
          "base_uri": "https://localhost:8080/"
        },
        "id": "KwFZIFXi6D5_",
        "outputId": "60e0fde5-6943-4986-de00-6ec3bc9a3054"
      },
      "outputs": [
        {
          "output_type": "stream",
          "name": "stdout",
          "text": [
            "desserts\n"
          ]
        }
      ],
      "source": [
        "#1.00\n",
        "buf = \"stressed\"\n",
        "ans = buf[::-1]\n",
        "print(ans)"
      ]
    },
    {
      "cell_type": "markdown",
      "source": [
        "## 「パタトクカシーー」  \n",
        "「パタトクカシーー」という文字列の1,3,5,7文字目を取り出して連結した文字列を得よ．"
      ],
      "metadata": {
        "id": "VO3I9AimIEHN"
      }
    },
    {
      "cell_type": "code",
      "source": [
        "#1.01\n",
        "buf = \"パタトクカシーー\"\n",
        "ans = buf[::2]\n",
        "print(ans)"
      ],
      "metadata": {
        "colab": {
          "base_uri": "https://localhost:8080/"
        },
        "id": "QCg45s_X8qvu",
        "outputId": "349a6fa8-508c-413c-af1c-e601eb22c1fa"
      },
      "execution_count": 62,
      "outputs": [
        {
          "output_type": "stream",
          "name": "stdout",
          "text": [
            "パトカー\n"
          ]
        }
      ]
    },
    {
      "cell_type": "markdown",
      "source": [
        "## 「パトカー」＋「タクシー」＝「パタトクカシーー」  \n",
        "「パトカー」＋「タクシー」の文字を先頭から交互に連結して文字列「パタトクカシーー」を得よ．"
      ],
      "metadata": {
        "id": "R56KYDOBKzxy"
      }
    },
    {
      "cell_type": "code",
      "source": [
        "from IPython.core.display import Javascript\n",
        "#1.02\n",
        "buf1 = \"パトカー\"\n",
        "buf2 = \"タクシー\"\n",
        "ans = \"\"\n",
        "for i, j in zip(buf1, buf2):\n",
        "  ans += i + j\n",
        "print(ans)"
      ],
      "metadata": {
        "colab": {
          "base_uri": "https://localhost:8080/"
        },
        "id": "QOioVEP4BBhe",
        "outputId": "dd7173cf-2533-45fb-a620-69883a5c8698"
      },
      "execution_count": 94,
      "outputs": [
        {
          "output_type": "stream",
          "name": "stdout",
          "text": [
            "パタトクカシーー\n"
          ]
        }
      ]
    }
  ]
}